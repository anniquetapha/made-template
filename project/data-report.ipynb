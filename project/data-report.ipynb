{
 "cells": [
  {
   "cell_type": "markdown",
   "metadata": {},
   "source": [
    "# Data Report\n",
    "## Question\n",
    "**What insights can be gained from the analysis of chronic disease indicators and their correlation with the leading causes of death in the United States?**"
   ]
  },
  {
   "cell_type": "markdown",
   "metadata": {},
   "source": [
    "## Data Sources\n",
    "\n",
    "### 1. Chronic Disease Indicators Dataset\n",
    "- **Why Chosen**: This dataset provides detailed information about chronic diseases, including prevalence and public health impact.\n",
    "- **Source**: [Chronic Dataset](https://data.cdc.gov/api/views/g4ie-h725/rows.csv?accessType=DOWNLOAD)\n",
    "- **Data Type**: CSV\n",
    "- **Structure**: \n",
    "  - Columns include:\n",
    "    - `YearStart`: Start year of data collection.\n",
    "    - `LocationDesc`: State or territory name.\n",
    "    - `Topic`: Chronic disease topic (e.g., Cancer, Diabetes, etc).\n",
    "    - `Question`: A specific question about the topic (e.g., \"Mortality from diabetes, etc\").\n",
    "    - `DataValueType`: Type of value (e.g., \"Age-adjusted Rate, Number, etc\").\n",
    "    - `DataValue`: Numerical value (e.g., mortality rate, etc).\n",
    "    - `Stratification1`: Demographic breakdown (e.g., \"Overall, \"Gender, etc\").\n",
    "   \n",
    "\n",
    "- **License**:\n",
    "  - Licensed under the Open Database License (ODbL). Fulfill obligations by proper attribution and sharing derivatives under the same license. [License Info](https://opendatacommons.org/licenses/odbl/summary/)\n",
    "\n",
    "### 2. NCHS Leading Causes of Death Dataset\n",
    "- **Why Chosen**: Essential for understanding mortality trends and their correlation with chronic diseases.\n",
    "- **Source**: [NCHS Dataset](https://data.cdc.gov/api/views/bi63-dtpu/rows.csv?accessType=DOWNLOAD)\n",
    "    - `Cause Name`: Cause of death (e.g., \"Heart Disease\").\n",
    "    - `State`: State or territory name.\n",
    "    - `Deaths`: Number of deaths recorded.\n",
    "    - `Age-adjusted Death Rate`: Standardized mortality rate per 100,000 population.\n",
    "- **License**:\n",
    "  - Public domain, with attribution recommended as a courtesy. [License Info](https://www.usa.gov/government-copyright)"
   ]
  },
  {
   "cell_type": "markdown",
   "metadata": {},
   "source": [
    "## Data Pipeline\n",
    "\n",
    "1. **Download**: The pipeline downloads datasets programmatically using Python's `requests` library to ensure we always work with the most recent data.\n",
    "2. **Filtering and Cleaning**:\n",
    "   - For chronic disease data:\n",
    "     - Filter `DataValueType == \"Age-adjusted Rate\"`.\n",
    "     - Keep only rows with `Demographic == \"Overall\"` (The “Overall” category represents aggregated data for the entire population and the NCHS dataset does not provide granular demographic data and I am looking for insighs on the whole population).\n",
    "     - Focus on questions containing \"Mortality.\"\n",
    "   - For mortality data:\n",
    "     - Here I retain only relevant causes of death based on predefined mappings. The mapping aligns broad chronic disease topics (e.g., “Diabetes”) with specific causes of death (e.g., “Diabetes-related deaths”) to enable meaningful merging and analysis of the two datasets.\n",
    "3. **Merging**:\n",
    "   - Merge chronic disease data with mortality data on `Year`, `State`, and `Cause_Name`.\n",
    "4. **Output**:\n",
    "   - Store the final cleaned dataset in SQLite and CSV formats.\n",
    "\n",
    "### Technologies Used\n",
    "- **Programming Language**: Python\n",
    "- **Libraries**: `pandas`, `requests`, `sqlite3`\n",
    "- **Storage**: SQLite for structured queries, CSV for sharing and analysis."
   ]
  },
  {
   "cell_type": "markdown",
   "metadata": {},
   "source": [
    "## Challenges in the Data Pipeline\n",
    "\n",
    "### Multiple `DataValueType` Rows\n",
    "The Chronic dataset included two rows per `Year`, `State`, and `Topic` due to:\n",
    "- **Number**: Raw count.\n",
    "- **Age-adjusted Rate**: Standardized per 100,000 population.\n",
    "\n",
    "**Solution**: Retained only `Age-adjusted Rate` for consistency and to simplify merging with the NCHS dataset.\n",
    "\n",
    "### Mismatch Between Topics and Cause Names\n",
    "The `Topic` column in the Chronic dataset did not directly align with the `Cause Name` column in the NCHS dataset.\n",
    "\n",
    "**Solution**: Created a mapping dictionary to align `Topic` with `Cause Name` (e.g., \"Cardiovascular Disease\" → \"Heart Disease\"). Topics without matches were excluded.\n",
    "\n",
    "### Challenges in Mapping\n",
    "\n",
    "1. **Unmatched Topics**: Some Chronic topics lacked corresponding NCHS causes.  \n",
    "   **Solution**: Included only mappable topics.\n",
    "2. **Ambiguous Terminology**: Terms like \"Respiratory Diseases\" could match multiple causes.  \n",
    "   **Solution**: Used domain knowledge for precise mappings."
   ]
  },
  {
   "cell_type": "markdown",
   "metadata": {},
   "source": []
  },
  {
   "cell_type": "markdown",
   "metadata": {},
   "source": [
    "## Data Structure\n",
    "The final merged dataset contains 832 rows and 6 columns: `Year` (the year the data was collected), `State` (the state or territory where the data was recorded), `Topic` (e.g., \"Cancer,\" \"Diabetes\"), `Deaths` (total deaths recorded in the NCHS dataset), `Age_Adjusted_Death_Rate` (the standardized death rate per 100,000 population), and `ChronicDiseaseValue` (the age-adjusted rate of the chronic disease indicator)."
   ]
  },
  {
   "cell_type": "markdown",
   "metadata": {},
   "source": [
    "## Data Quality\n",
    "- **Completeness**: Selected columns are complete; rows with missing or unmatched values were excluded.  \n",
    "- **Accuracy**: High reliability due to CDC-sourced data.  \n",
    "- **Consistency**: Uniform column formats and retained only `Age-adjusted Rate` rows for standardization.  \n",
    "- **Relevance**: Focused on mortality-related indicators for chronic diseases.  \n",
    "- **Data Format**: SQL for structured analysis and CSV for sharing."
   ]
  },
  {
   "cell_type": "markdown",
   "metadata": {},
   "source": [
    "## Limitations\n",
    "\n",
    "### Data Reduction Summary\n",
    "The Chronic dataset originally had over 1.1 million rows, and the NCHS dataset contained approximately 10,000 rows. After processing, the final merged dataset was reduced to 832 rows, focusing only on the topics \"Chronic Obstructive Pulmonary Disease\" and \"Diabetes.\"\n",
    "\n",
    "### Reasons for Reduction\n",
    "Filtering retained only rows with `DataValueType == \"Age-adjusted Rate\"`, `Demographic == \"Overall\"`, and questions containing \"Mortality.\" Merging used an inner join on `Year`, `State`, and `Cause_Name`, keeping only matching rows. Topics were limited due to predefined mapping and lack of corresponding data in NCHS.\n",
    "\n",
    "### Implications\n",
    "This reduction caused a loss of detail by excluding many rows and topics like \"Cardiovascular Disease.\" The focus on \"Chronic Obstructive Pulmonary Disease\" and \"Diabetes\" limits scope, and the small sample size (832 rows) may impact the robustness of the analysis."
   ]
  },
  {
   "cell_type": "markdown",
   "metadata": {},
   "source": []
  }
 ],
 "metadata": {
  "kernelspec": {
   "display_name": "kdd",
   "language": "python",
   "name": "python3"
  },
  "language_info": {
   "codemirror_mode": {
    "name": "ipython",
    "version": 3
   },
   "file_extension": ".py",
   "mimetype": "text/x-python",
   "name": "python",
   "nbconvert_exporter": "python",
   "pygments_lexer": "ipython3",
   "version": "3.10.9"
  }
 },
 "nbformat": 4,
 "nbformat_minor": 2
}
